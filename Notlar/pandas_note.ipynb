{
 "cells": [
  {
   "cell_type": "code",
   "execution_count": 7,
   "id": "902ad16a-fb22-4323-9a2e-f0e6f261ec74",
   "metadata": {},
   "outputs": [],
   "source": [
    "import pandas as pd"
   ]
  },
  {
   "cell_type": "code",
   "execution_count": 3,
   "id": "bbdcf834-9bd6-41e2-ac31-65111dba54af",
   "metadata": {},
   "outputs": [],
   "source": [
    "text = ['Hello my name is james',\n",
    "'james this is my python notebook',\n",
    "'james trying to create a big dataset',\n",
    "'james of words to try differnt',\n",
    "'features of Count Vectorizer']"
   ]
  },
  {
   "cell_type": "code",
   "execution_count": 11,
   "id": "1b8a449a-b2da-4ca6-85c5-cacf71bca953",
   "metadata": {},
   "outputs": [],
   "source": [
    "# convert the list to dataframe \n",
    "df = pd.DataFrame(text, columns=['Text'])"
   ]
  },
  {
   "cell_type": "code",
   "execution_count": 13,
   "id": "d97747c5-9132-4e53-9f44-c7097337bf14",
   "metadata": {},
   "outputs": [
    {
     "data": {
      "text/html": [
       "<div>\n",
       "<style scoped>\n",
       "    .dataframe tbody tr th:only-of-type {\n",
       "        vertical-align: middle;\n",
       "    }\n",
       "\n",
       "    .dataframe tbody tr th {\n",
       "        vertical-align: top;\n",
       "    }\n",
       "\n",
       "    .dataframe thead th {\n",
       "        text-align: right;\n",
       "    }\n",
       "</style>\n",
       "<table border=\"1\" class=\"dataframe\">\n",
       "  <thead>\n",
       "    <tr style=\"text-align: right;\">\n",
       "      <th></th>\n",
       "      <th>Text</th>\n",
       "    </tr>\n",
       "  </thead>\n",
       "  <tbody>\n",
       "    <tr>\n",
       "      <th>0</th>\n",
       "      <td>Hello my name is james</td>\n",
       "    </tr>\n",
       "    <tr>\n",
       "      <th>1</th>\n",
       "      <td>james this is my python notebook</td>\n",
       "    </tr>\n",
       "    <tr>\n",
       "      <th>2</th>\n",
       "      <td>james trying to create a big dataset</td>\n",
       "    </tr>\n",
       "    <tr>\n",
       "      <th>3</th>\n",
       "      <td>james of words to try differnt</td>\n",
       "    </tr>\n",
       "    <tr>\n",
       "      <th>4</th>\n",
       "      <td>features of Count Vectorizer</td>\n",
       "    </tr>\n",
       "  </tbody>\n",
       "</table>\n",
       "</div>"
      ],
      "text/plain": [
       "                                   Text\n",
       "0                Hello my name is james\n",
       "1      james this is my python notebook\n",
       "2  james trying to create a big dataset\n",
       "3        james of words to try differnt\n",
       "4          features of Count Vectorizer"
      ]
     },
     "execution_count": 13,
     "metadata": {},
     "output_type": "execute_result"
    }
   ],
   "source": [
    "df"
   ]
  },
  {
   "cell_type": "markdown",
   "id": "3069e79c-b930-4f36-90b7-ba8f3da68ac7",
   "metadata": {},
   "source": [
    "# Time to experiment \n",
    "- How can I count char in one row ? "
   ]
  },
  {
   "cell_type": "code",
   "execution_count": 17,
   "id": "98c8f8b6-bf30-48c1-a832-5682e1bbf6d6",
   "metadata": {},
   "outputs": [],
   "source": [
    "df[\"char_count\"] =  df[\"Text\"].str.len()"
   ]
  },
  {
   "cell_type": "code",
   "execution_count": 19,
   "id": "30e9bc06-0ca6-4801-b174-4a44d1ea92b4",
   "metadata": {},
   "outputs": [
    {
     "data": {
      "text/html": [
       "<div>\n",
       "<style scoped>\n",
       "    .dataframe tbody tr th:only-of-type {\n",
       "        vertical-align: middle;\n",
       "    }\n",
       "\n",
       "    .dataframe tbody tr th {\n",
       "        vertical-align: top;\n",
       "    }\n",
       "\n",
       "    .dataframe thead th {\n",
       "        text-align: right;\n",
       "    }\n",
       "</style>\n",
       "<table border=\"1\" class=\"dataframe\">\n",
       "  <thead>\n",
       "    <tr style=\"text-align: right;\">\n",
       "      <th></th>\n",
       "      <th>Text</th>\n",
       "      <th>char_count</th>\n",
       "    </tr>\n",
       "  </thead>\n",
       "  <tbody>\n",
       "    <tr>\n",
       "      <th>0</th>\n",
       "      <td>Hello my name is james</td>\n",
       "      <td>22</td>\n",
       "    </tr>\n",
       "    <tr>\n",
       "      <th>1</th>\n",
       "      <td>james this is my python notebook</td>\n",
       "      <td>32</td>\n",
       "    </tr>\n",
       "    <tr>\n",
       "      <th>2</th>\n",
       "      <td>james trying to create a big dataset</td>\n",
       "      <td>36</td>\n",
       "    </tr>\n",
       "    <tr>\n",
       "      <th>3</th>\n",
       "      <td>james of words to try differnt</td>\n",
       "      <td>30</td>\n",
       "    </tr>\n",
       "    <tr>\n",
       "      <th>4</th>\n",
       "      <td>features of Count Vectorizer</td>\n",
       "      <td>28</td>\n",
       "    </tr>\n",
       "  </tbody>\n",
       "</table>\n",
       "</div>"
      ],
      "text/plain": [
       "                                   Text  char_count\n",
       "0                Hello my name is james          22\n",
       "1      james this is my python notebook          32\n",
       "2  james trying to create a big dataset          36\n",
       "3        james of words to try differnt          30\n",
       "4          features of Count Vectorizer          28"
      ]
     },
     "execution_count": 19,
     "metadata": {},
     "output_type": "execute_result"
    }
   ],
   "source": [
    "df"
   ]
  },
  {
   "cell_type": "code",
   "execution_count": 25,
   "id": "abdfc9b6-f19d-4a36-8e44-37e5b7775841",
   "metadata": {},
   "outputs": [
    {
     "data": {
      "text/plain": [
       "0    H\n",
       "1    j\n",
       "2    j\n",
       "3    j\n",
       "4    f\n",
       "Name: first_char, dtype: object"
      ]
     },
     "execution_count": 25,
     "metadata": {},
     "output_type": "execute_result"
    }
   ],
   "source": [
    "# find first char \n",
    "df[\"first_char\"] =  df[\"Text\"].str[:1]\n",
    "df[\"first_char\"] "
   ]
  },
  {
   "cell_type": "code",
   "execution_count": null,
   "id": "821c2f62-dc54-44ef-9c1e-599303ed5b2f",
   "metadata": {},
   "outputs": [],
   "source": []
  }
 ],
 "metadata": {
  "kernelspec": {
   "display_name": "Python 3 (ipykernel)",
   "language": "python",
   "name": "python3"
  },
  "language_info": {
   "codemirror_mode": {
    "name": "ipython",
    "version": 3
   },
   "file_extension": ".py",
   "mimetype": "text/x-python",
   "name": "python",
   "nbconvert_exporter": "python",
   "pygments_lexer": "ipython3",
   "version": "3.10.14"
  }
 },
 "nbformat": 4,
 "nbformat_minor": 5
}
